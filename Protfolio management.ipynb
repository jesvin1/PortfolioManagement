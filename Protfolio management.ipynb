{
  "nbformat": 4,
  "nbformat_minor": 0,
  "metadata": {
    "colab": {
      "name": "Untitled2.ipynb",
      "provenance": [],
      "authorship_tag": "ABX9TyMwSV2CATZ3uBJnPdR95Swl",
      "include_colab_link": true
    },
    "kernelspec": {
      "name": "python3",
      "display_name": "Python 3"
    }
  },
  "cells": [
    {
      "cell_type": "markdown",
      "metadata": {
        "id": "view-in-github",
        "colab_type": "text"
      },
      "source": [
        "<a href=\"https://colab.research.google.com/github/jesvin1/PortfolioManagement/blob/master/Protfolio%20management.ipynb\" target=\"_parent\"><img src=\"https://colab.research.google.com/assets/colab-badge.svg\" alt=\"Open In Colab\"/></a>"
      ]
    },
    {
      "cell_type": "code",
      "metadata": {
        "id": "-rP8rMNscJkI",
        "colab_type": "code",
        "colab": {
          "base_uri": "https://localhost:8080/",
          "height": 73
        },
        "outputId": "e7a890f2-d3d5-4702-8472-dac87ec47ae8"
      },
      "source": [
        "import numpy as np\n",
        "import pandas as pd\n",
        "from pandas_datareader import data as wb\n",
        "import matplotlib.pyplot as plt\n",
        "%matplotlib inline"
      ],
      "execution_count": 1,
      "outputs": [
        {
          "output_type": "stream",
          "text": [
            "/usr/local/lib/python3.6/dist-packages/pandas_datareader/compat/__init__.py:7: FutureWarning: pandas.util.testing is deprecated. Use the functions in the public API at pandas.testing instead.\n",
            "  from pandas.util.testing import assert_frame_equal\n"
          ],
          "name": "stderr"
        }
      ]
    },
    {
      "cell_type": "code",
      "metadata": {
        "id": "1BN-eirvcfs4",
        "colab_type": "code",
        "colab": {}
      },
      "source": [
        "assets = ['HDFCBANK.NS', 'RELIANCE.NS','TCS.NS']\n",
        "pf_data = pd.DataFrame()\n",
        "\n",
        "for a in assets:\n",
        "    pf_data[a] = wb.DataReader(a, data_source = 'yahoo', start = '2010-1-1')['Adj Close']"
      ],
      "execution_count": 0,
      "outputs": []
    },
    {
      "cell_type": "code",
      "metadata": {
        "id": "cCBFUXm9c3Dm",
        "colab_type": "code",
        "outputId": "c42934ff-89db-4072-a8a3-ab36e4ee643a",
        "colab": {
          "base_uri": "https://localhost:8080/",
          "height": 237
        }
      },
      "source": [
        "pf_data.tail()"
      ],
      "execution_count": 3,
      "outputs": [
        {
          "output_type": "execute_result",
          "data": {
            "text/html": [
              "<div>\n",
              "<style scoped>\n",
              "    .dataframe tbody tr th:only-of-type {\n",
              "        vertical-align: middle;\n",
              "    }\n",
              "\n",
              "    .dataframe tbody tr th {\n",
              "        vertical-align: top;\n",
              "    }\n",
              "\n",
              "    .dataframe thead th {\n",
              "        text-align: right;\n",
              "    }\n",
              "</style>\n",
              "<table border=\"1\" class=\"dataframe\">\n",
              "  <thead>\n",
              "    <tr style=\"text-align: right;\">\n",
              "      <th></th>\n",
              "      <th>HDFCBANK.NS</th>\n",
              "      <th>RELIANCE.NS</th>\n",
              "      <th>TCS.NS</th>\n",
              "    </tr>\n",
              "    <tr>\n",
              "      <th>Date</th>\n",
              "      <th></th>\n",
              "      <th></th>\n",
              "      <th></th>\n",
              "    </tr>\n",
              "  </thead>\n",
              "  <tbody>\n",
              "    <tr>\n",
              "      <th>2020-05-04</th>\n",
              "      <td>923.000000</td>\n",
              "      <td>1435.199951</td>\n",
              "      <td>1930.449951</td>\n",
              "    </tr>\n",
              "    <tr>\n",
              "      <th>2020-05-05</th>\n",
              "      <td>911.450012</td>\n",
              "      <td>1460.650024</td>\n",
              "      <td>1932.750000</td>\n",
              "    </tr>\n",
              "    <tr>\n",
              "      <th>2020-05-06</th>\n",
              "      <td>946.400024</td>\n",
              "      <td>1460.750000</td>\n",
              "      <td>1903.599976</td>\n",
              "    </tr>\n",
              "    <tr>\n",
              "      <th>2020-05-07</th>\n",
              "      <td>925.000000</td>\n",
              "      <td>1506.949951</td>\n",
              "      <td>1891.650024</td>\n",
              "    </tr>\n",
              "    <tr>\n",
              "      <th>2020-05-08</th>\n",
              "      <td>929.049988</td>\n",
              "      <td>1561.800049</td>\n",
              "      <td>1893.400024</td>\n",
              "    </tr>\n",
              "  </tbody>\n",
              "</table>\n",
              "</div>"
            ],
            "text/plain": [
              "            HDFCBANK.NS  RELIANCE.NS       TCS.NS\n",
              "Date                                             \n",
              "2020-05-04   923.000000  1435.199951  1930.449951\n",
              "2020-05-05   911.450012  1460.650024  1932.750000\n",
              "2020-05-06   946.400024  1460.750000  1903.599976\n",
              "2020-05-07   925.000000  1506.949951  1891.650024\n",
              "2020-05-08   929.049988  1561.800049  1893.400024"
            ]
          },
          "metadata": {
            "tags": []
          },
          "execution_count": 3
        }
      ]
    },
    {
      "cell_type": "code",
      "metadata": {
        "id": "Kago91Ccc_Yo",
        "colab_type": "code",
        "colab": {}
      },
      "source": [
        "pf_data['HDFC_Ret'] = pf_data['HDFCBANK.NS']/pf_data['HDFCBANK.NS'].iloc[0]\n",
        "pf_data['RELIANCE_Ret'] = pf_data['RELIANCE.NS']/pf_data['RELIANCE.NS'].iloc[0]\n",
        "pf_data['TCS_Ret'] = pf_data['TCS.NS']/pf_data['TCS.NS'].iloc[0]"
      ],
      "execution_count": 0,
      "outputs": []
    },
    {
      "cell_type": "code",
      "metadata": {
        "id": "zagEbSAyc7JS",
        "colab_type": "code",
        "outputId": "8aa74f58-fe7b-446b-da6a-e15b754ae2c0",
        "colab": {
          "base_uri": "https://localhost:8080/",
          "height": 35
        }
      },
      "source": [
        "pf_data['HDFCBANK.NS'].iloc[0]"
      ],
      "execution_count": 5,
      "outputs": [
        {
          "output_type": "execute_result",
          "data": {
            "text/plain": [
              "132.50143432617188"
            ]
          },
          "metadata": {
            "tags": []
          },
          "execution_count": 5
        }
      ]
    },
    {
      "cell_type": "code",
      "metadata": {
        "id": "iJdMM-IijHTJ",
        "colab_type": "code",
        "colab": {}
      },
      "source": [
        "pf_data['HDFC_Ret_al'] = pf_data['HDFC_Ret'] *.6\n",
        "pf_data['RELIANCE_Ret_al'] = pf_data['RELIANCE_Ret']*.1\n",
        "pf_data['TCS_Ret_al'] = pf_data['TCS_Ret'] *.3"
      ],
      "execution_count": 0,
      "outputs": []
    },
    {
      "cell_type": "code",
      "metadata": {
        "id": "fMniYeU4jn5C",
        "colab_type": "code",
        "colab": {}
      },
      "source": [
        "pf_data['HDFC_Ret_pos'] = pf_data['HDFC_Ret_al'] *200000\n",
        "pf_data['RELIANCE_Ret_pos'] = pf_data['RELIANCE_Ret_al']*200000\n",
        "pf_data['TCS_Ret_pos'] = pf_data['TCS_Ret_al']*200000\n",
        "pf_data['Total_pos'] = pf_data['HDFC_Ret_pos'] +  pf_data['RELIANCE_Ret_pos'] +  pf_data['TCS_Ret_pos']"
      ],
      "execution_count": 0,
      "outputs": []
    },
    {
      "cell_type": "code",
      "metadata": {
        "id": "AonGLPN7kNBO",
        "colab_type": "code",
        "outputId": "2a588190-b4d3-451c-c52e-e098d20cc664",
        "colab": {
          "base_uri": "https://localhost:8080/",
          "height": 499
        }
      },
      "source": [
        "pf_data['Total_pos'].plot(figsize=(10,8))\n",
        "plt.title('Total Position')"
      ],
      "execution_count": 8,
      "outputs": [
        {
          "output_type": "execute_result",
          "data": {
            "text/plain": [
              "Text(0.5, 1.0, 'Total Position')"
            ]
          },
          "metadata": {
            "tags": []
          },
          "execution_count": 8
        },
        {
          "output_type": "display_data",
          "data": {
            "image/png": "[encoded data removed]",
            "text/plain": [
              "<Figure size 720x576 with 1 Axes>"
            ]
          },
          "metadata": {
            "tags": [],
            "needs_background": "light"
          }
        }
      ]
    },
    {
      "cell_type": "code",
      "metadata": {
        "id": "2Kj8SYk_KnyM",
        "colab_type": "code",
        "colab": {
          "base_uri": "https://localhost:8080/",
          "height": 257
        },
        "outputId": "26a9ae17-0ebd-4249-a620-6db0246c653c"
      },
      "source": [
        "pf_data.tail()"
      ],
      "execution_count": 23,
      "outputs": [
        {
          "output_type": "execute_result",
          "data": {
            "text/html": [
              "<div>\n",
              "<style scoped>\n",
              "    .dataframe tbody tr th:only-of-type {\n",
              "        vertical-align: middle;\n",
              "    }\n",
              "\n",
              "    .dataframe tbody tr th {\n",
              "        vertical-align: top;\n",
              "    }\n",
              "\n",
              "    .dataframe thead th {\n",
              "        text-align: right;\n",
              "    }\n",
              "</style>\n",
              "<table border=\"1\" class=\"dataframe\">\n",
              "  <thead>\n",
              "    <tr style=\"text-align: right;\">\n",
              "      <th></th>\n",
              "      <th>HDFCBANK.NS</th>\n",
              "      <th>RELIANCE.NS</th>\n",
              "      <th>TCS.NS</th>\n",
              "      <th>HDFC_Ret</th>\n",
              "      <th>RELIANCE_Ret</th>\n",
              "      <th>TCS_Ret</th>\n",
              "      <th>HDFC_Ret_al</th>\n",
              "      <th>RELIANCE_Ret_al</th>\n",
              "      <th>TCS_Ret_al</th>\n",
              "      <th>HDFC_Ret_pos</th>\n",
              "      <th>RELIANCE_Ret_pos</th>\n",
              "      <th>TCS_Ret_pos</th>\n",
              "      <th>Total_pos</th>\n",
              "      <th>Daily_Ret</th>\n",
              "    </tr>\n",
              "    <tr>\n",
              "      <th>Date</th>\n",
              "      <th></th>\n",
              "      <th></th>\n",
              "      <th></th>\n",
              "      <th></th>\n",
              "      <th></th>\n",
              "      <th></th>\n",
              "      <th></th>\n",
              "      <th></th>\n",
              "      <th></th>\n",
              "      <th></th>\n",
              "      <th></th>\n",
              "      <th></th>\n",
              "      <th></th>\n",
              "      <th></th>\n",
              "    </tr>\n",
              "  </thead>\n",
              "  <tbody>\n",
              "    <tr>\n",
              "      <th>2020-05-04</th>\n",
              "      <td>923.000000</td>\n",
              "      <td>1435.199951</td>\n",
              "      <td>1930.449951</td>\n",
              "      <td>6.965962</td>\n",
              "      <td>3.150296</td>\n",
              "      <td>6.892212</td>\n",
              "      <td>4.179577</td>\n",
              "      <td>0.315030</td>\n",
              "      <td>2.067664</td>\n",
              "      <td>835915.479431</td>\n",
              "      <td>63005.926990</td>\n",
              "      <td>413532.722353</td>\n",
              "      <td>1.312454e+06</td>\n",
              "      <td>-0.064648</td>\n",
              "    </tr>\n",
              "    <tr>\n",
              "      <th>2020-05-05</th>\n",
              "      <td>911.450012</td>\n",
              "      <td>1460.650024</td>\n",
              "      <td>1932.750000</td>\n",
              "      <td>6.878794</td>\n",
              "      <td>3.206160</td>\n",
              "      <td>6.900424</td>\n",
              "      <td>4.127276</td>\n",
              "      <td>0.320616</td>\n",
              "      <td>2.070127</td>\n",
              "      <td>825455.226361</td>\n",
              "      <td>64123.196716</td>\n",
              "      <td>414025.428964</td>\n",
              "      <td>1.303604e+06</td>\n",
              "      <td>-0.006743</td>\n",
              "    </tr>\n",
              "    <tr>\n",
              "      <th>2020-05-06</th>\n",
              "      <td>946.400024</td>\n",
              "      <td>1460.750000</td>\n",
              "      <td>1903.599976</td>\n",
              "      <td>7.142564</td>\n",
              "      <td>3.206379</td>\n",
              "      <td>6.796351</td>\n",
              "      <td>4.285539</td>\n",
              "      <td>0.320638</td>\n",
              "      <td>2.038905</td>\n",
              "      <td>857107.724963</td>\n",
              "      <td>64127.585689</td>\n",
              "      <td>407781.035555</td>\n",
              "      <td>1.329016e+06</td>\n",
              "      <td>0.019494</td>\n",
              "    </tr>\n",
              "    <tr>\n",
              "      <th>2020-05-07</th>\n",
              "      <td>925.000000</td>\n",
              "      <td>1506.949951</td>\n",
              "      <td>1891.650024</td>\n",
              "      <td>6.981057</td>\n",
              "      <td>3.307789</td>\n",
              "      <td>6.753686</td>\n",
              "      <td>4.188634</td>\n",
              "      <td>0.330779</td>\n",
              "      <td>2.026106</td>\n",
              "      <td>837726.780578</td>\n",
              "      <td>66155.784442</td>\n",
              "      <td>405221.168184</td>\n",
              "      <td>1.309104e+06</td>\n",
              "      <td>-0.014983</td>\n",
              "    </tr>\n",
              "    <tr>\n",
              "      <th>2020-05-08</th>\n",
              "      <td>929.049988</td>\n",
              "      <td>1561.800049</td>\n",
              "      <td>1893.400024</td>\n",
              "      <td>7.011622</td>\n",
              "      <td>3.428186</td>\n",
              "      <td>6.759934</td>\n",
              "      <td>4.206973</td>\n",
              "      <td>0.342819</td>\n",
              "      <td>2.027980</td>\n",
              "      <td>841394.654346</td>\n",
              "      <td>68563.728537</td>\n",
              "      <td>405596.045691</td>\n",
              "      <td>1.315554e+06</td>\n",
              "      <td>0.004928</td>\n",
              "    </tr>\n",
              "  </tbody>\n",
              "</table>\n",
              "</div>"
            ],
            "text/plain": [
              "            HDFCBANK.NS  RELIANCE.NS  ...     Total_pos  Daily_Ret\n",
              "Date                                  ...                         \n",
              "2020-05-04   923.000000  1435.199951  ...  1.312454e+06  -0.064648\n",
              "2020-05-05   911.450012  1460.650024  ...  1.303604e+06  -0.006743\n",
              "2020-05-06   946.400024  1460.750000  ...  1.329016e+06   0.019494\n",
              "2020-05-07   925.000000  1506.949951  ...  1.309104e+06  -0.014983\n",
              "2020-05-08   929.049988  1561.800049  ...  1.315554e+06   0.004928\n",
              "\n",
              "[5 rows x 14 columns]"
            ]
          },
          "metadata": {
            "tags": []
          },
          "execution_count": 23
        }
      ]
    },
    {
      "cell_type": "code",
      "metadata": {
        "id": "0wz0zUcXKti-",
        "colab_type": "code",
        "colab": {}
      },
      "source": [
        "pf_data['Daily_Ret'] = pf_data['Total_pos'].pct_change(1)"
      ],
      "execution_count": 0,
      "outputs": []
    },
    {
      "cell_type": "code",
      "metadata": {
        "id": "7W7RTwoQLw_I",
        "colab_type": "code",
        "colab": {
          "base_uri": "https://localhost:8080/",
          "height": 290
        },
        "outputId": "bb15bcdf-559e-4738-c6a0-6a4b431e32d0"
      },
      "source": [
        "pf_data.mean()"
      ],
      "execution_count": 14,
      "outputs": [
        {
          "output_type": "execute_result",
          "data": {
            "text/plain": [
              "HDFCBANK.NS            545.684709\n",
              "RELIANCE.NS            623.941867\n",
              "TCS.NS                1042.680318\n",
              "HDFC_Ret                 4.118331\n",
              "RELIANCE_Ret             1.369567\n",
              "TCS_Ret                  3.722642\n",
              "HDFC_Ret_al              2.470998\n",
              "RELIANCE_Ret_al          0.136957\n",
              "TCS_Ret_al               1.116793\n",
              "HDFC_Ret_pos        494199.670015\n",
              "RELIANCE_Ret_pos     27391.330172\n",
              "TCS_Ret_pos         223358.512896\n",
              "Total_pos           744949.513082\n",
              "Daily_Ret                0.000814\n",
              "dtype: float64"
            ]
          },
          "metadata": {
            "tags": []
          },
          "execution_count": 14
        }
      ]
    },
    {
      "cell_type": "code",
      "metadata": {
        "id": "q1mafoS1L0Fi",
        "colab_type": "code",
        "colab": {
          "base_uri": "https://localhost:8080/",
          "height": 35
        },
        "outputId": "fa6bfacd-3efc-4e16-90e7-633308419fc3"
      },
      "source": [
        "pf_data['Daily_Ret'].std()"
      ],
      "execution_count": 15,
      "outputs": [
        {
          "output_type": "execute_result",
          "data": {
            "text/plain": [
              "0.012149300376893843"
            ]
          },
          "metadata": {
            "tags": []
          },
          "execution_count": 15
        }
      ]
    },
    {
      "cell_type": "code",
      "metadata": {
        "id": "D1zHKXe4L-LX",
        "colab_type": "code",
        "colab": {
          "base_uri": "https://localhost:8080/",
          "height": 338
        },
        "outputId": "a4c4ea04-0ca9-4923-d3c7-08065ce78d30"
      },
      "source": [
        "pf_data['Daily_Ret'].plot(kind='hist',bins=100,figsize=(10,5))"
      ],
      "execution_count": 17,
      "outputs": [
        {
          "output_type": "execute_result",
          "data": {
            "text/plain": [
              "<matplotlib.axes._subplots.AxesSubplot at 0x7f1117ff1978>"
            ]
          },
          "metadata": {
            "tags": []
          },
          "execution_count": 17
        },
        {
          "output_type": "display_data",
          "data": {
            "image/png": "[encoded data removed]",
            "text/plain": [
              "<Figure size 720x360 with 1 Axes>"
            ]
          },
          "metadata": {
            "tags": [],
            "needs_background": "light"
          }
        }
      ]
    },
    {
      "cell_type": "code",
      "metadata": {
        "id": "jr9zB2-UMUtE",
        "colab_type": "code",
        "colab": {
          "base_uri": "https://localhost:8080/",
          "height": 338
        },
        "outputId": "3d73c982-df4d-4439-adfd-29ef3d554d8f"
      },
      "source": [
        "pf_data['Daily_Ret'].plot(kind='kde',figsize=(10,5))"
      ],
      "execution_count": 18,
      "outputs": [
        {
          "output_type": "execute_result",
          "data": {
            "text/plain": [
              "<matplotlib.axes._subplots.AxesSubplot at 0x7f1117f0eac8>"
            ]
          },
          "metadata": {
            "tags": []
          },
          "execution_count": 18
        },
        {
          "output_type": "display_data",
          "data": {
            "image/png": "[encoded data removed]",
            "text/plain": [
              "<Figure size 720x360 with 1 Axes>"
            ]
          },
          "metadata": {
            "tags": [],
            "needs_background": "light"
          }
        }
      ]
    },
    {
      "cell_type": "code",
      "metadata": {
        "id": "pIE4iRrUMYEd",
        "colab_type": "code",
        "colab": {}
      },
      "source": [
        "cumuliative_return = 100* (pf_data['Total_pos'][-1]/pf_data['Total_pos'][0] -1)"
      ],
      "execution_count": 0,
      "outputs": []
    },
    {
      "cell_type": "code",
      "metadata": {
        "id": "uqR61ab1NcEr",
        "colab_type": "code",
        "colab": {
          "base_uri": "https://localhost:8080/",
          "height": 35
        },
        "outputId": "636387b6-6a21-4c98-ff73-904e9ee71b7a"
      },
      "source": [
        "pf_data['Total_pos'][-1]"
      ],
      "execution_count": 24,
      "outputs": [
        {
          "output_type": "execute_result",
          "data": {
            "text/plain": [
              "1315554.428573778"
            ]
          },
          "metadata": {
            "tags": []
          },
          "execution_count": 24
        }
      ]
    },
    {
      "cell_type": "code",
      "metadata": {
        "id": "GMcy-jlAM2G8",
        "colab_type": "code",
        "colab": {
          "base_uri": "https://localhost:8080/",
          "height": 35
        },
        "outputId": "552a0bc3-602c-4d07-a6f7-77fe1e036abe"
      },
      "source": [
        "cumuliative_return"
      ],
      "execution_count": 21,
      "outputs": [
        {
          "output_type": "execute_result",
          "data": {
            "text/plain": [
              "557.7772142868889"
            ]
          },
          "metadata": {
            "tags": []
          },
          "execution_count": 21
        }
      ]
    },
    {
      "cell_type": "code",
      "metadata": {
        "id": "bVJZ3iXSNnPd",
        "colab_type": "code",
        "colab": {
          "base_uri": "https://localhost:8080/",
          "height": 35
        },
        "outputId": "eebb6f4c-73a5-4004-baba-bb8b6c58697c"
      },
      "source": [
        "#Sharp Ratio\n",
        "sr = pf_data['Daily_Ret'].mean()/pf_data['Daily_Ret'].std()\n",
        "sr"
      ],
      "execution_count": 25,
      "outputs": [
        {
          "output_type": "execute_result",
          "data": {
            "text/plain": [
              "0.06700092655554549"
            ]
          },
          "metadata": {
            "tags": []
          },
          "execution_count": 25
        }
      ]
    },
    {
      "cell_type": "code",
      "metadata": {
        "id": "6WwnPHUiN56m",
        "colab_type": "code",
        "colab": {
          "base_uri": "https://localhost:8080/",
          "height": 35
        },
        "outputId": "627ebe8a-3e0e-453d-c94c-6901bf8859df"
      },
      "source": [
        "#Annualized Sharp ratio\n",
        "\n",
        "asr = np.sqrt(252) * sr\n",
        "asr"
      ],
      "execution_count": 27,
      "outputs": [
        {
          "output_type": "execute_result",
          "data": {
            "text/plain": [
              "1.0636067356612608"
            ]
          },
          "metadata": {
            "tags": []
          },
          "execution_count": 27
        }
      ]
    },
    {
      "cell_type": "code",
      "metadata": {
        "id": "VVx1ip1IOEkN",
        "colab_type": "code",
        "colab": {}
      },
      "source": [
        ""
      ],
      "execution_count": 0,
      "outputs": []
    }
  ]
}