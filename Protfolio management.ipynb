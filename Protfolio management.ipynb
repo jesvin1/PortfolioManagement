{
  "nbformat": 4,
  "nbformat_minor": 0,
  "metadata": {
    "colab": {
      "name": "Untitled2.ipynb",
      "provenance": [],
      "authorship_tag": "ABX9TyPqN/fwxn7UNhRMrXRXrieX",
      "include_colab_link": true
    },
    "kernelspec": {
      "name": "python3",
      "display_name": "Python 3"
    }
  },
  "cells": [
    {
      "cell_type": "markdown",
      "metadata": {
        "id": "view-in-github",
        "colab_type": "text"
      },
      "source": [
        "<a href=\"https://colab.research.google.com/github/jesvin1/PortfolioManagement/blob/master/Protfolio%20management.ipynb\" target=\"_parent\"><img src=\"https://colab.research.google.com/assets/colab-badge.svg\" alt=\"Open In Colab\"/></a>"
      ]
    },
    {
      "cell_type": "code",
      "metadata": {
        "id": "-rP8rMNscJkI",
        "colab_type": "code",
        "colab": {}
      },
      "source": [
        "import numpy as np\n",
        "import pandas as pd\n",
        "from pandas_datareader import data as wb\n",
        "import matplotlib.pyplot as plt\n",
        "%matplotlib inline"
      ],
      "execution_count": 0,
      "outputs": []
    },
    {
      "cell_type": "code",
      "metadata": {
        "id": "1BN-eirvcfs4",
        "colab_type": "code",
        "colab": {}
      },
      "source": [
        "assets = ['HDFCBANK.NS', 'RELIANCE.NS','TCS.NS']\n",
        "pf_data = pd.DataFrame()\n",
        "\n",
        "for a in assets:\n",
        "    pf_data[a] = wb.DataReader(a, data_source = 'yahoo', start = '2010-1-1')['Adj Close']"
      ],
      "execution_count": 0,
      "outputs": []
    },
    {
      "cell_type": "code",
      "metadata": {
        "id": "cCBFUXm9c3Dm",
        "colab_type": "code",
        "colab": {
          "base_uri": "https://localhost:8080/",
          "height": 237
        },
        "outputId": "e4813764-a0fe-4945-ab91-b5a184eeedc4"
      },
      "source": [
        "pf_data.tail()"
      ],
      "execution_count": 26,
      "outputs": [
        {
          "output_type": "execute_result",
          "data": {
            "text/html": [
              "<div>\n",
              "<style scoped>\n",
              "    .dataframe tbody tr th:only-of-type {\n",
              "        vertical-align: middle;\n",
              "    }\n",
              "\n",
              "    .dataframe tbody tr th {\n",
              "        vertical-align: top;\n",
              "    }\n",
              "\n",
              "    .dataframe thead th {\n",
              "        text-align: right;\n",
              "    }\n",
              "</style>\n",
              "<table border=\"1\" class=\"dataframe\">\n",
              "  <thead>\n",
              "    <tr style=\"text-align: right;\">\n",
              "      <th></th>\n",
              "      <th>HDFCBANK.NS</th>\n",
              "      <th>RELIANCE.NS</th>\n",
              "      <th>TCS.NS</th>\n",
              "      <th>HDFC_Ret</th>\n",
              "      <th>RELIANCE_Ret</th>\n",
              "      <th>TCS_Ret</th>\n",
              "    </tr>\n",
              "    <tr>\n",
              "      <th>Date</th>\n",
              "      <th></th>\n",
              "      <th></th>\n",
              "      <th></th>\n",
              "      <th></th>\n",
              "      <th></th>\n",
              "      <th></th>\n",
              "    </tr>\n",
              "  </thead>\n",
              "  <tbody>\n",
              "    <tr>\n",
              "      <th>2020-04-30</th>\n",
              "      <td>1001.799988</td>\n",
              "      <td>1466.000000</td>\n",
              "      <td>2014.449951</td>\n",
              "      <td>7.560673</td>\n",
              "      <td>3.217903</td>\n",
              "      <td>7.192114</td>\n",
              "    </tr>\n",
              "    <tr>\n",
              "      <th>2020-05-04</th>\n",
              "      <td>923.000000</td>\n",
              "      <td>1435.199951</td>\n",
              "      <td>1930.449951</td>\n",
              "      <td>6.965962</td>\n",
              "      <td>3.150296</td>\n",
              "      <td>6.892212</td>\n",
              "    </tr>\n",
              "    <tr>\n",
              "      <th>2020-05-05</th>\n",
              "      <td>911.450012</td>\n",
              "      <td>1460.650024</td>\n",
              "      <td>1932.750000</td>\n",
              "      <td>6.878794</td>\n",
              "      <td>3.206160</td>\n",
              "      <td>6.900424</td>\n",
              "    </tr>\n",
              "    <tr>\n",
              "      <th>2020-05-06</th>\n",
              "      <td>946.400024</td>\n",
              "      <td>1460.750000</td>\n",
              "      <td>1903.599976</td>\n",
              "      <td>7.142564</td>\n",
              "      <td>3.206379</td>\n",
              "      <td>6.796351</td>\n",
              "    </tr>\n",
              "    <tr>\n",
              "      <th>2020-05-07</th>\n",
              "      <td>935.950012</td>\n",
              "      <td>1458.500000</td>\n",
              "      <td>1927.050049</td>\n",
              "      <td>7.063697</td>\n",
              "      <td>3.201440</td>\n",
              "      <td>6.880073</td>\n",
              "    </tr>\n",
              "  </tbody>\n",
              "</table>\n",
              "</div>"
            ],
            "text/plain": [
              "            HDFCBANK.NS  RELIANCE.NS  ...  RELIANCE_Ret   TCS_Ret\n",
              "Date                                  ...                        \n",
              "2020-04-30  1001.799988  1466.000000  ...      3.217903  7.192114\n",
              "2020-05-04   923.000000  1435.199951  ...      3.150296  6.892212\n",
              "2020-05-05   911.450012  1460.650024  ...      3.206160  6.900424\n",
              "2020-05-06   946.400024  1460.750000  ...      3.206379  6.796351\n",
              "2020-05-07   935.950012  1458.500000  ...      3.201440  6.880073\n",
              "\n",
              "[5 rows x 6 columns]"
            ]
          },
          "metadata": {
            "tags": []
          },
          "execution_count": 26
        }
      ]
    },
    {
      "cell_type": "code",
      "metadata": {
        "id": "Kago91Ccc_Yo",
        "colab_type": "code",
        "colab": {}
      },
      "source": [
        "pf_data['HDFC_Ret'] = pf_data['HDFCBANK.NS']/pf_data['HDFCBANK.NS'].iloc[0]\n",
        "pf_data['RELIANCE_Ret'] = pf_data['RELIANCE.NS']/pf_data['RELIANCE.NS'].iloc[0]\n",
        "pf_data['TCS_Ret'] = pf_data['TCS.NS']/pf_data['TCS.NS'].iloc[0]"
      ],
      "execution_count": 0,
      "outputs": []
    },
    {
      "cell_type": "code",
      "metadata": {
        "id": "zagEbSAyc7JS",
        "colab_type": "code",
        "colab": {
          "base_uri": "https://localhost:8080/",
          "height": 35
        },
        "outputId": "338bd9e2-c704-4ff8-89cc-12e599aba12e"
      },
      "source": [
        "pf_data['HDFCBANK.NS'].iloc[0]"
      ],
      "execution_count": 24,
      "outputs": [
        {
          "output_type": "execute_result",
          "data": {
            "text/plain": [
              "132.50143432617188"
            ]
          },
          "metadata": {
            "tags": []
          },
          "execution_count": 24
        }
      ]
    },
    {
      "cell_type": "code",
      "metadata": {
        "id": "iJdMM-IijHTJ",
        "colab_type": "code",
        "colab": {}
      },
      "source": [
        "pf_data['HDFC_Ret_al'] = pf_data['HDFC_Ret'] *.6\n",
        "pf_data['RELIANCE_Ret_al'] = pf_data['RELIANCE_Ret']*.1\n",
        "pf_data['TCS_Ret_al'] = pf_data['TCS_Ret'] *.3"
      ],
      "execution_count": 0,
      "outputs": []
    },
    {
      "cell_type": "code",
      "metadata": {
        "id": "fMniYeU4jn5C",
        "colab_type": "code",
        "colab": {}
      },
      "source": [
        "pf_data['HDFC_Ret_pos'] = pf_data['HDFC_Ret_al'] *200000\n",
        "pf_data['RELIANCE_Ret_pos'] = pf_data['RELIANCE_Ret_al']*200000\n",
        "pf_data['TCS_Ret_pos'] = pf_data['TCS_Ret_al']*200000\n",
        "pf_data['Total_pos'] = pf_data['HDFC_Ret_pos'] +  pf_data['RELIANCE_Ret_pos'] +  pf_data['TCS_Ret_pos']"
      ],
      "execution_count": 0,
      "outputs": []
    },
    {
      "cell_type": "code",
      "metadata": {
        "id": "AonGLPN7kNBO",
        "colab_type": "code",
        "colab": {
          "base_uri": "https://localhost:8080/",
          "height": 499
        },
        "outputId": "22260cb2-f24a-4b62-daad-803bcbc15abf"
      },
      "source": [
        "pf_data['Total_pos'].plot(figsize=(10,8))\n",
        "plt.title('Total Position')"
      ],
      "execution_count": 30,
      "outputs": [
        {
          "output_type": "execute_result",
          "data": {
            "text/plain": [
              "Text(0.5, 1.0, 'Total Position')"
            ]
          },
          "metadata": {
            "tags": []
          },
          "execution_count": 30
        },
        {
          "output_type": "display_data",
          "data": {
            "image/png": "[encoded data removed]",
            "text/plain": [
              "<Figure size 720x576 with 1 Axes>"
            ]
          },
          "metadata": {
            "tags": [],
            "needs_background": "light"
          }
        }
      ]
    }
  ]
}